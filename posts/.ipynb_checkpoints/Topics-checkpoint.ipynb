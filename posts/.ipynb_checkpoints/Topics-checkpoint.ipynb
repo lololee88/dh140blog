{
 "cells": [
  {
   "cell_type": "markdown",
   "id": "41f85b0f",
   "metadata": {},
   "source": [
    "---\n",
    "title: \"First File\"\n",
    "description: \"Testing Quarto\"\n",
    "author: \"Your Name\"\n",
    "date: \"07/26/2023\"\n",
    "date-modified: \"07/26/2023\"\n",
    "---"
   ]
  },
  {
   "cell_type": "markdown",
   "id": "65e5a49e",
   "metadata": {},
   "source": [
    "## Introduction"
   ]
  },
  {
   "cell_type": "markdown",
   "id": "cd6e00d1",
   "metadata": {},
   "source": [
    "This should include a description of your data, a link to the source(s) of your data, your motivation for looking at the data, and the question(s) that you are seeking to address.\n"
   ]
  },
  {
   "cell_type": "markdown",
   "id": "7c5d8441",
   "metadata": {},
   "source": [
    "## Data Info"
   ]
  },
  {
   "cell_type": "markdown",
   "id": "9df079d8",
   "metadata": {},
   "source": [
    "This section does not need to be polished yet, but it should be a good foundation\n",
    "This can include summary information about the data, summary statistics where appropriate, an identification of where there may be missing/incorrect/outlier data, and data preprocessing\n",
    "It should include at least 4 exploratory data visualizations"
   ]
  },
  {
   "cell_type": "markdown",
   "id": "86a8a98e",
   "metadata": {},
   "source": [
    "## Analysis\n",
    "This section also does not need to be polished yet, but it should be a good foundation\n",
    "This should include code for data analysis directly relevant to your question(s) of interest\n",
    "Include an additional 4 data visualizations that are directly relevant to your topic \n",
    "Or describe 4 data visualizations that you want to make"
   ]
  },
  {
   "cell_type": "code",
   "execution_count": null,
   "id": "52437c9d",
   "metadata": {},
   "outputs": [],
   "source": []
  }
 ],
 "metadata": {
  "kernelspec": {
   "display_name": "Python 3 (ipykernel)",
   "language": "python",
   "name": "python3"
  },
  "language_info": {
   "codemirror_mode": {
    "name": "ipython",
    "version": 3
   },
   "file_extension": ".py",
   "mimetype": "text/x-python",
   "name": "python",
   "nbconvert_exporter": "python",
   "pygments_lexer": "ipython3",
   "version": "3.10.11"
  }
 },
 "nbformat": 4,
 "nbformat_minor": 5
}
